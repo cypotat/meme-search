{
 "cells": [
  {
   "cell_type": "markdown",
   "metadata": {},
   "source": [
    "## Get Posts"
   ]
  },
  {
   "cell_type": "code",
   "execution_count": 1,
   "metadata": {},
   "outputs": [],
   "source": [
    "from vk_api import VkApi\n",
    "from math import ceil\n",
    "from tqdm import tqdm, trange\n",
    "\n",
    "with open('token.txt', 'r') as tokens:\n",
    "  token = tokens.readline()\n",
    "  vk = VkApi(token = token)\n",
    "\n",
    "pub_name = 'poiskmemow'\n",
    "max_items = 100"
   ]
  },
  {
   "cell_type": "code",
   "execution_count": 2,
   "metadata": {},
   "outputs": [
    {
     "name": "stdout",
     "output_type": "stream",
     "text": [
      "3437 35\n"
     ]
    }
   ],
   "source": [
    "count = vk.method(\"wall.get\", {'domain': pub_name, 'count': 1})['count']\n",
    "api_calls_count = ceil(count / max_items)\n",
    "print(count, api_calls_count)"
   ]
  },
  {
   "cell_type": "code",
   "execution_count": 3,
   "metadata": {},
   "outputs": [
    {
     "name": "stderr",
     "output_type": "stream",
     "text": [
      "100%|██████████| 35/35 [01:11<00:00,  2.04s/it]\n"
     ]
    }
   ],
   "source": [
    "posts_data = []\n",
    "for i in trange(api_calls_count):\n",
    "  request_data = {'domain': pub_name, 'count': max_items, 'offset': i * max_items}\n",
    "  posts_data += vk.method(\"wall.get\", request_data)['items']"
   ]
  },
  {
   "cell_type": "code",
   "execution_count": 4,
   "metadata": {},
   "outputs": [],
   "source": [
    "import re\n",
    "\n",
    "def format_text(text):\n",
    "  url_re = r'https?:\\/\\/(www\\.)?[-a-zA-Z0-9@:%._\\+~#=]{2,256}\\.[a-z]{2,4}\\b([-a-zA-Z0-9@:%_\\+.~#?&//=]*)'\n",
    "  src_url = f'([Ии]сточник.*?)?( {url_re})+'\n",
    "  tags_re = r'#.+?@\\S+'\n",
    "  # clear text\n",
    "  text = text.replace('\\n', ' ').replace('\\r', ' ') # remove newlines\n",
    "  text = re.sub(src_url, '', text) # remove source links\n",
    "  text = re.sub(url_re, '', text) # remove urls\n",
    "  text = re.sub(tags_re, '', text) # remove hashtags\n",
    "  text = text.replace('#', '') # convert hashtags to words\n",
    "  text = ' '.join(text.split()).strip() # remove double spaces\n",
    "  return text"
   ]
  },
  {
   "cell_type": "code",
   "execution_count": 5,
   "metadata": {},
   "outputs": [],
   "source": [
    "class Post:\n",
    "  def __init__(self, json):\n",
    "    self.json, self.id = json, json['id']\n",
    "    self.text, self.photos = self._parse_post(json)\n",
    "\n",
    "  def _parse_post(self, json):\n",
    "    text = format_text(json['text'])\n",
    "    photos = []\n",
    "    if 'attachments' in json.keys():\n",
    "      for attachment in json['attachments']:\n",
    "        if attachment['type'] == 'photo':\n",
    "          max_src = max(attachment['photo']['sizes'], key=lambda x: x['width'] * x['height'])['url']\n",
    "          photos.append(max_src)\n",
    "    return text, photos\n",
    "  \n",
    "  def __str__(self):\n",
    "    return f'Post(id={self.id}, text={self.text}, photos={self.photos})'"
   ]
  },
  {
   "cell_type": "code",
   "execution_count": 6,
   "metadata": {},
   "outputs": [
    {
     "name": "stdout",
     "output_type": "stream",
     "text": [
      "all posts: 3437\n",
      "without images: 3406\n"
     ]
    }
   ],
   "source": [
    "posts = [Post(post) for post in posts_data]\n",
    "print(\"all posts:\", len(posts))\n",
    "\n",
    "posts = [post for post in posts if post.photos and post.text]\n",
    "print(\"without images:\", len(posts))"
   ]
  },
  {
   "cell_type": "code",
   "execution_count": 7,
   "metadata": {},
   "outputs": [],
   "source": [
    "with open('only_text.txt', 'w', encoding=\"utf-8\") as f:\n",
    "  for post in posts:\n",
    "    f.write(f'{post.text}\\n')"
   ]
  },
  {
   "cell_type": "code",
   "execution_count": 9,
   "metadata": {},
   "outputs": [
    {
     "name": "stdout",
     "output_type": "stream",
     "text": [
      "max post length: 4212\n",
      "average post length: 198.5813270698767\n"
     ]
    }
   ],
   "source": [
    "max_post_length = max([len(post.text) for post in posts])\n",
    "average_post_length = sum([len(post.text) for post in posts]) / len(posts)\n",
    "print(\"max post length:\", max_post_length)\n",
    "print(\"average post length:\", average_post_length)\n"
   ]
  },
  {
   "cell_type": "code",
   "execution_count": null,
   "metadata": {},
   "outputs": [],
   "source": [
    "from random import choice\n",
    "print(choice(posts))"
   ]
  },
  {
   "cell_type": "markdown",
   "metadata": {},
   "source": [
    "## Fuzzy Search"
   ]
  },
  {
   "cell_type": "code",
   "execution_count": 75,
   "metadata": {},
   "outputs": [
    {
     "name": "stdout",
     "output_type": "stream",
     "text": [
      "[('Сдраствуйте здравствуйте делайте делойте хорошее а плохое не делойте '\n",
      "  'досведания до свидания красный фон кошка просит кот светлый вылезает из '\n",
      "  'сердечка в рамке в форме сердца с белым кружевом лапка лапа вперёд '\n",
      "  'зацепился добрая картинка с подписью открытка',\n",
      "  93),\n",
      " ('просто супер отлично но переделайте вахрушева т.н. печать штамп шамова л.а. '\n",
      "  'выставочный синий индивидуальный предприниматель российская федерация город '\n",
      "  'г киров область тетрадь в клетку клеточку 10.07 10 десять десятое июля июль '\n",
      "  '07 7',\n",
      "  80),\n",
      " ('пожелание хорошего вечера ночи чай приятного печенье чаепитие чайник ужин '\n",
      "  'вечер хорошо ложка в чашке лимон черный чай скатерть шрифт лобстер',\n",
      "  73)]\n"
     ]
    }
   ],
   "source": [
    "from fuzzywuzzy import process, utils, fuzz\n",
    "from pprint import pprint\n",
    "\n",
    "search_q = 'делайте хорошее'\n",
    "text_list = [post.text for post in posts]\n",
    "results = process.extract(search_q, text_list, limit=3, scorer=fuzz.partial_ratio)\n",
    "\n",
    "pprint(results) # returns list of tuples (text, score)"
   ]
  },
  {
   "cell_type": "code",
   "execution_count": 62,
   "metadata": {},
   "outputs": [],
   "source": [
    "images = {post.id: post.photos for post in posts}\n",
    "keywords = {post.id: post.text for post in posts}"
   ]
  },
  {
   "cell_type": "code",
   "execution_count": null,
   "metadata": {},
   "outputs": [],
   "source": [
    "from fuzzywuzzy import process, utils, fuzz\n",
    "from pprint import pprint\n",
    "\n",
    "search_q = 'котик'\n",
    "results = process.extract(search_q, keywords, limit=3, scorer=fuzz.partial_ratio)\n",
    "results = [\n",
    "  {\n",
    "    \"text\": result[0],\n",
    "    \"score\": result[1],\n",
    "    \"id\": result[2],\n",
    "    \"images\": images[result[2]]\n",
    "  }\n",
    "  for result in results\n",
    "]\n",
    "\n",
    "pprint(results)"
   ]
  },
  {
   "cell_type": "code",
   "execution_count": null,
   "metadata": {},
   "outputs": [],
   "source": [
    "from IPython.display import Image, display\n",
    "\n",
    "for result in results:\n",
    "  print(result['text'])\n",
    "  for url in result['images']:\n",
    "    display(Image(url=url, width=350, unconfined=True))"
   ]
  },
  {
   "cell_type": "markdown",
   "metadata": {},
   "source": [
    "## Test Meme Search"
   ]
  },
  {
   "cell_type": "code",
   "execution_count": 79,
   "metadata": {},
   "outputs": [
    {
     "name": "stdout",
     "output_type": "stream",
     "text": [
      "(score: 100) Кот котик плачет мем не смешно картинка пикча picture боль больно тема больная сука довели плачет слезы из глаз слезы сука текст мотеша математика завтра неет слезы боль депрессия кот плакает студент школьник студенческие слезы домашка кот не надо белый не хочет на математику наверное домашку не сделал мотеша завтра сука два 2 что((((\n"
     ]
    },
    {
     "data": {
      "text/html": [
       "<img src=\"https://sun1-17.userapi.com/impf/gNRHC604WJLp8M3bKVfLGSfr_cWRzwxDKLqQZA/B8J4ApFmHK0.jpg?size=420x540&quality=95&sign=3949d86ab295745d62b25f573e8be9bc&c_uniq_tag=ZTFyu5Eq0ydl3Z9C3qwoDJ1USzixc-gp5v6wSox8BbE&type=album\" width=\"350\" class=\"unconfined\"/>"
      ],
      "text/plain": [
       "<IPython.core.display.Image object>"
      ]
     },
     "metadata": {},
     "output_type": "display_data"
    },
    {
     "name": "stdout",
     "output_type": "stream",
     "text": [
      "(score: 100) Ты чего наделола... киса кошка кот исчезает кусочки котик плачет наделала огромная бессмысленная вотермарка на всю пикчу щелчок таноса камни перчатка бесконечности пыль\n"
     ]
    },
    {
     "data": {
      "text/html": [
       "<img src=\"https://sun9-35.userapi.com/impf/31zuyP-EABK88NRKnbN80XPbd34LPq62W7uTqg/4oAr8-gUNqI.jpg?size=1080x1034&quality=96&sign=db62c2b68e3cb53b88e461b2d3be4109&c_uniq_tag=O492OTPd5SRRkbX1MO3udTSTayUCvoHCNDvkbhIbgaA&type=album\" width=\"350\" class=\"unconfined\"/>"
      ],
      "text/plain": [
       "<IPython.core.display.Image object>"
      ]
     },
     "metadata": {},
     "output_type": "display_data"
    },
    {
     "name": "stdout",
     "output_type": "stream",
     "text": [
      "(score: 83) кот плачет орёт арет арёт ревёт в отчаянии рыжий белый кричит визжит расстроен зол котёнок расплакался открыл рот в слезах слёзы слёзки у кота котика кот кошка кошки крик помогите пищит рыдает кто-то удаляет мемы\n"
     ]
    },
    {
     "data": {
      "text/html": [
       "<img src=\"https://sun9-8.userapi.com/impf/vk97IgctVtOxu-OXU11qATtjTOEakUo2O-igog/5yirqRyyKTY.jpg?size=937x896&quality=96&sign=dfeccd33a5f050967a7f8837a5174945&c_uniq_tag=_XDQF1Y0ePyAJ4Aio6TCRyKgylnCruGHlAFvMsmUSvo&type=album\" width=\"350\" class=\"unconfined\"/>"
      ],
      "text/plain": [
       "<IPython.core.display.Image object>"
      ]
     },
     "metadata": {},
     "output_type": "display_data"
    },
    {
     "name": "stdout",
     "output_type": "stream",
     "text": [
      "(score: 83) ну чего ты носик повесил котеночек все будет хорошо ты со всем справишься поддержка добрый мем серый кот плачет поддерживают держат голову\n"
     ]
    },
    {
     "data": {
      "text/html": [
       "<img src=\"https://sun9-48.userapi.com/impf/6GcylGJxNVUQaHCUCekyYtDac8Vy1KTMs7pYLg/ueG02zmYZ5Y.jpg?size=750x738&quality=96&sign=0e226dcadb20b70e3d0c4381bd3df87e&c_uniq_tag=Mel7staYUwhjvEuXunx2T6mzxkTGeGYI1CqWRv_lGUw&type=album\" width=\"350\" class=\"unconfined\"/>"
      ],
      "text/plain": [
       "<IPython.core.display.Image object>"
      ]
     },
     "metadata": {},
     "output_type": "display_data"
    },
    {
     "name": "stdout",
     "output_type": "stream",
     "text": [
      "(score: 83) ьомьамьеьо ьеьыьеьока ( набор букв ударили по клавиатуре грустная скобка черная надпись шрифт лобстер lobster котик кот котенок персик обнимает успокаивает щеночка собаку щенка спотти плачет слезы\n"
     ]
    },
    {
     "data": {
      "text/html": [
       "<img src=\"https://sun9-52.userapi.com/impf/Uc-cXPsIu5slh1E3HEPpzuCJtekB4QSqy-C3rQ/DQkgRIMD4HI.jpg?size=786x640&quality=96&sign=a95679bb6e8e9a786caefe36559c74c6&c_uniq_tag=PiCTugs7nSjbYHn-hjwEoT5kUOfwR1V4diR3XVwq1pI&type=album\" width=\"350\" class=\"unconfined\"/>"
      ],
      "text/plain": [
       "<IPython.core.display.Image object>"
      ]
     },
     "metadata": {},
     "output_type": "display_data"
    }
   ],
   "source": [
    "from fuzzywuzzy import process, utils, fuzz\n",
    "from IPython.display import Image, display\n",
    "\n",
    "search_q = 'котик плачет'\n",
    "results = process.extract(search_q, keywords, limit=5, scorer=fuzz.partial_ratio)\n",
    "results = [\n",
    "  {\n",
    "    \"text\": result[0],\n",
    "    \"score\": result[1],\n",
    "    \"id\": result[2],\n",
    "    \"images\": images[result[2]]\n",
    "  }\n",
    "  for result in results\n",
    "]\n",
    "\n",
    "for result in results:\n",
    "  print(f\"(score: {result['score']})\", result['text'])\n",
    "  for url in result['images']:\n",
    "    display(Image(url=url, width=350, unconfined=True))"
   ]
  }
 ],
 "metadata": {
  "kernelspec": {
   "display_name": "Python 3.10.5 64-bit",
   "language": "python",
   "name": "python3"
  },
  "language_info": {
   "codemirror_mode": {
    "name": "ipython",
    "version": 3
   },
   "file_extension": ".py",
   "mimetype": "text/x-python",
   "name": "python",
   "nbconvert_exporter": "python",
   "pygments_lexer": "ipython3",
   "version": "3.10.5"
  },
  "orig_nbformat": 4,
  "vscode": {
   "interpreter": {
    "hash": "2469a70536e4d2335a2ea8907942d0699c37342a371ac185bdb5b0aa6f073890"
   }
  }
 },
 "nbformat": 4,
 "nbformat_minor": 2
}
